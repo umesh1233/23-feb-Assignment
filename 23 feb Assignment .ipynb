{
 "cells": [
  {
   "cell_type": "code",
   "execution_count": 1,
   "id": "eea6565b-f5bc-46ea-a0c1-cce661d786a6",
   "metadata": {},
   "outputs": [
    {
     "name": "stdout",
     "output_type": "stream",
     "text": [
      "0     4\n",
      "1     8\n",
      "2    15\n",
      "3    16\n",
      "4    23\n",
      "5    42\n",
      "dtype: int64\n"
     ]
    }
   ],
   "source": [
    "#Q.1\n",
    "import pandas as pd\n",
    " \n",
    "\n",
    "list = [4, 8, 15, 16, 23,42]\n",
    " \n",
    "ser = pd.Series(list)\n",
    "print(ser)"
   ]
  },
  {
   "cell_type": "code",
   "execution_count": 3,
   "id": "957b7a12-b66b-40a7-9bf7-b8cc5d70a406",
   "metadata": {},
   "outputs": [
    {
     "name": "stdout",
     "output_type": "stream",
     "text": [
      "0    a\n",
      "1    b\n",
      "2    c\n",
      "3    d\n",
      "4    e\n",
      "5    f\n",
      "6    g\n",
      "7    h\n",
      "8    i\n",
      "9    j\n",
      "dtype: object\n"
     ]
    }
   ],
   "source": [
    "#Q.2\n",
    "import pandas as pd\n",
    "list = ['a','b','c','d','e','f','g','h','i','j' ]\n",
    "df = pd.Series((i[0] for i in list))\n",
    "  \n",
    "print(df)"
   ]
  },
  {
   "cell_type": "code",
   "execution_count": 5,
   "id": "689cb004-705b-4462-90c4-ad48db11b3f1",
   "metadata": {},
   "outputs": [
    {
     "name": "stdout",
     "output_type": "stream",
     "text": [
      "     Name  Age  Gender\n",
      "0   Alice   25  Female\n",
      "1     Bob   30    Male\n",
      "2  Claire   27  Female\n"
     ]
    }
   ],
   "source": [
    "#Q.3\n",
    "import pandas as pd\n",
    "data = {'Name':['Alice', ' Bob', 'Claire'], 'Age':[25, 30, 27, ], 'Gender':['Female' , 'Male' ,'Female']}\n",
    "df = pd.DataFrame(data)\n",
    "print(df)"
   ]
  },
  {
   "cell_type": "code",
   "execution_count": 6,
   "id": "0264924e-59e8-480f-bb2b-237a11541788",
   "metadata": {},
   "outputs": [
    {
     "name": "stdout",
     "output_type": "stream",
     "text": [
      "Fruit series:\n",
      "0     apples\n",
      "1    oranges\n",
      "2    bananas\n",
      "dtype: object\n",
      "\n",
      "Temperature series:\n",
      "0    32.6\n",
      "1    34.1\n",
      "2    28.0\n",
      "3    35.9\n",
      "dtype: float64\n",
      "\n",
      "Factors of 12 series:\n",
      "0     1\n",
      "1     2\n",
      "2     4\n",
      "3     6\n",
      "4    12\n",
      "dtype: int64\n",
      "Type of this data structure is: <class 'pandas.core.series.Series'>\n"
     ]
    }
   ],
   "source": [
    "#Q.4\n",
    "#A Pandas DataFrame is a 2 dimensional data structure, like a 2 dimensional array, or\n",
    "#a table with rows and columns.\n",
    "#A pandas series is a one-dimensional data structure that comprises of key-value pair, \n",
    "#where keys/labels are the indices and values are the values stored on that index.\n",
    "import pandas\n",
    "\n",
    "fruits = pandas.Series([\"apples\", \"oranges\", \"bananas\"])\n",
    "\n",
    "print(\"Fruit series:\")\n",
    "print(fruits)\n",
    "\n",
    "temperature = pandas.Series([32.6, 34.1, 28.0, 35.9])\n",
    "\n",
    "print(\"\\nTemperature series:\")\n",
    "print(temperature)\n",
    "\n",
    "factors_of_12 = pandas.Series([1,2,4,6,12])\n",
    "\n",
    "print(\"\\nFactors of 12 series:\")\n",
    "print(factors_of_12)\n",
    "\n",
    "print(\"Type of this data structure is:\", type(factors_of_12))"
   ]
  },
  {
   "cell_type": "code",
   "execution_count": 9,
   "id": "d0a6596b-a7c3-4fa4-83c8-6d337d291e13",
   "metadata": {},
   "outputs": [],
   "source": [
    "#Q.5\n",
    "import pandas as pd\n",
    "df = pd.read_csv(\"data.csv\")"
   ]
  },
  {
   "cell_type": "code",
   "execution_count": 10,
   "id": "1746141d-e723-46b7-a669-4a1139f00a83",
   "metadata": {},
   "outputs": [
    {
     "data": {
      "text/html": [
       "<div>\n",
       "<style scoped>\n",
       "    .dataframe tbody tr th:only-of-type {\n",
       "        vertical-align: middle;\n",
       "    }\n",
       "\n",
       "    .dataframe tbody tr th {\n",
       "        vertical-align: top;\n",
       "    }\n",
       "\n",
       "    .dataframe thead th {\n",
       "        text-align: right;\n",
       "    }\n",
       "</style>\n",
       "<table border=\"1\" class=\"dataframe\">\n",
       "  <thead>\n",
       "    <tr style=\"text-align: right;\">\n",
       "      <th></th>\n",
       "      <th>name</th>\n",
       "      <th>email_id</th>\n",
       "      <th>phone_number</th>\n",
       "    </tr>\n",
       "  </thead>\n",
       "  <tbody>\n",
       "    <tr>\n",
       "      <th>0</th>\n",
       "      <td>umesh</td>\n",
       "      <td>umesh@gmail.com</td>\n",
       "      <td>758647584</td>\n",
       "    </tr>\n",
       "    <tr>\n",
       "      <th>1</th>\n",
       "      <td>Rintu</td>\n",
       "      <td>rintu@gmail.com</td>\n",
       "      <td>5974747903</td>\n",
       "    </tr>\n",
       "    <tr>\n",
       "      <th>2</th>\n",
       "      <td>sudhir</td>\n",
       "      <td>sudhir@gmail.com</td>\n",
       "      <td>54636367</td>\n",
       "    </tr>\n",
       "  </tbody>\n",
       "</table>\n",
       "</div>"
      ],
      "text/plain": [
       "     name          email_id  phone_number\n",
       "0   umesh   umesh@gmail.com     758647584\n",
       "1   Rintu   rintu@gmail.com    5974747903\n",
       "2  sudhir  sudhir@gmail.com      54636367"
      ]
     },
     "execution_count": 10,
     "metadata": {},
     "output_type": "execute_result"
    }
   ],
   "source": [
    "df.tail()"
   ]
  },
  {
   "cell_type": "code",
   "execution_count": 11,
   "id": "541c0fd1-7b57-4928-9116-3123697163dc",
   "metadata": {},
   "outputs": [
    {
     "data": {
      "text/html": [
       "<div>\n",
       "<style scoped>\n",
       "    .dataframe tbody tr th:only-of-type {\n",
       "        vertical-align: middle;\n",
       "    }\n",
       "\n",
       "    .dataframe tbody tr th {\n",
       "        vertical-align: top;\n",
       "    }\n",
       "\n",
       "    .dataframe thead th {\n",
       "        text-align: right;\n",
       "    }\n",
       "</style>\n",
       "<table border=\"1\" class=\"dataframe\">\n",
       "  <thead>\n",
       "    <tr style=\"text-align: right;\">\n",
       "      <th></th>\n",
       "      <th>name</th>\n",
       "      <th>email_id</th>\n",
       "      <th>phone_number</th>\n",
       "    </tr>\n",
       "  </thead>\n",
       "  <tbody>\n",
       "    <tr>\n",
       "      <th>0</th>\n",
       "      <td>umesh</td>\n",
       "      <td>umesh@gmail.com</td>\n",
       "      <td>758647584</td>\n",
       "    </tr>\n",
       "    <tr>\n",
       "      <th>1</th>\n",
       "      <td>Rintu</td>\n",
       "      <td>rintu@gmail.com</td>\n",
       "      <td>5974747903</td>\n",
       "    </tr>\n",
       "    <tr>\n",
       "      <th>2</th>\n",
       "      <td>sudhir</td>\n",
       "      <td>sudhir@gmail.com</td>\n",
       "      <td>54636367</td>\n",
       "    </tr>\n",
       "  </tbody>\n",
       "</table>\n",
       "</div>"
      ],
      "text/plain": [
       "     name          email_id  phone_number\n",
       "0   umesh   umesh@gmail.com     758647584\n",
       "1   Rintu   rintu@gmail.com    5974747903\n",
       "2  sudhir  sudhir@gmail.com      54636367"
      ]
     },
     "execution_count": 11,
     "metadata": {},
     "output_type": "execute_result"
    }
   ],
   "source": [
    "df.head()"
   ]
  },
  {
   "cell_type": "code",
   "execution_count": 12,
   "id": "0ade8fa8-42f9-4bdc-9478-a6ac251df029",
   "metadata": {},
   "outputs": [
    {
     "data": {
      "text/plain": [
       "Index(['name', 'email_id', 'phone_number'], dtype='object')"
      ]
     },
     "execution_count": 12,
     "metadata": {},
     "output_type": "execute_result"
    }
   ],
   "source": [
    "df.columns"
   ]
  },
  {
   "cell_type": "code",
   "execution_count": null,
   "id": "a9eabc04-f9e2-40af-8fc3-e4f14dd9784c",
   "metadata": {},
   "outputs": [],
   "source": [
    "#Q.6\n",
    "import pandas as pd\n",
    "import numpy as np\n",
    "\n",
    "df1 = pd.DataFrame({'a': ['Geeks', 'For', 'geeks', 'real'],\n",
    "\t\t\t\t\t'b': [-11, +1.025, -114.48, 1333]})\n",
    "\n",
    "df2 = pd.DataFrame({'a': ['I', 'am', 'dataframe', 'two'],\n",
    "\t\t\t\t\t'b': [100, 100, 100, 100]})\n",
    "\t\t\t\t\t\n",
    "data = {'item1':df1, 'item2':df}\n",
    "panel = pd.Panel.from_dict(data, orient ='minor')\n",
    "print(\"panel['b'] is - \\n\\n\", panel['b'])\n",
    "\n",
    "print(\"\\nShape of panel['b'] is - \", panel['b'].shape)\n"
   ]
  }
 ],
 "metadata": {
  "kernelspec": {
   "display_name": "Python 3 (ipykernel)",
   "language": "python",
   "name": "python3"
  },
  "language_info": {
   "codemirror_mode": {
    "name": "ipython",
    "version": 3
   },
   "file_extension": ".py",
   "mimetype": "text/x-python",
   "name": "python",
   "nbconvert_exporter": "python",
   "pygments_lexer": "ipython3",
   "version": "3.10.8"
  }
 },
 "nbformat": 4,
 "nbformat_minor": 5
}
